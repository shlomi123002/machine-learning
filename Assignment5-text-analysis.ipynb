{
 "cells": [
  {
   "cell_type": "markdown",
   "metadata": {},
   "source": [
    "# Assignment 5 - Text Analysis\n",
    "An explanation this assignment could be found in the .pdf explanation document"
   ]
  },
  {
   "cell_type": "markdown",
   "metadata": {},
   "source": [
    "\n",
    "## Materials to review for this assignment\n",
    "<h4>From Moodle:</h4> \n",
    "<h5><u>Review the notebooks regarding the following python topics</u>:</h5>\n",
    "<div class=\"alert alert-info\">\n",
    "&#x2714; <b>Working with strings</b> (tutorial notebook)<br/>\n",
    "&#x2714; <b>Text Analysis</b> (tutorial notebook)<br/>\n",
    "&#x2714; <b>Hebrew text analysis tools (tokenizer, wordnet)</b> (moodle example)<br/>\n",
    "&#x2714; <b>(brief review) All previous notebooks</b><br/>\n",
    "</div> \n",
    "<h5><u>Review the presentations regarding the following topics</u>:</h5>\n",
    "<div class=\"alert alert-info\">\n",
    "&#x2714; <b>Text Analysis</b> (lecture presentation)<br/>\n",
    "&#x2714; <b>(brief review) All other presentations</b><br/>\n",
    "</div>"
   ]
  },
  {
   "cell_type": "markdown",
   "metadata": {},
   "source": [
    "## Preceding Step - import modules (packages)\n",
    "This step is necessary in order to use external modules (packages). <br/>"
   ]
  },
  {
   "cell_type": "code",
   "execution_count": 292,
   "metadata": {},
   "outputs": [],
   "source": [
    "# --------------------------------------\n",
    "import pandas as pd\n",
    "import numpy as np\n",
    "# --------------------------------------\n",
    "\n",
    "\n",
    "# --------------------------------------\n",
    "# ------------- visualizations:\n",
    "import seaborn as sns\n",
    "import matplotlib.pyplot as plt\n",
    "from matplotlib.colors import ListedColormap\n",
    "# --------------------------------------\n",
    "\n",
    "\n",
    "# ---------------------------------------\n",
    "import sklearn\n",
    "from sklearn import preprocessing, metrics, pipeline, model_selection, feature_extraction \n",
    "from sklearn import naive_bayes, linear_model, svm, neural_network, neighbors, tree\n",
    "from sklearn import decomposition, cluster\n",
    "\n",
    "from sklearn.model_selection import train_test_split, cross_val_score, GridSearchCV \n",
    "from sklearn.pipeline import Pipeline\n",
    "from sklearn.metrics import accuracy_score, confusion_matrix\n",
    "from sklearn.metrics import precision_score, recall_score, f1_score\n",
    "from sklearn.metrics import mean_squared_error, r2_score, silhouette_score\n",
    "from sklearn.preprocessing import MinMaxScaler, StandardScaler, LabelEncoder\n",
    "\n",
    "from sklearn.svm import LinearSVC\n",
    "from sklearn.neural_network import MLPClassifier\n",
    "from sklearn.linear_model import Perceptron, SGDClassifier\n",
    "from sklearn.decomposition import PCA\n",
    "\n",
    "\n",
    "\n",
    "from sklearn.cluster import KMeans\n",
    "from sklearn.naive_bayes import MultinomialNB, GaussianNB\n",
    "from sklearn.neighbors import KNeighborsClassifier\n",
    "from sklearn.tree import DecisionTreeClassifier\n",
    "# ---------------------------------------\n",
    "\n",
    "\n",
    "# ----------------- output and visualizations: \n",
    "import warnings\n",
    "from sklearn.exceptions import ConvergenceWarning\n",
    "warnings.simplefilter(\"ignore\")\n",
    "warnings.simplefilter(action='ignore', category=FutureWarning)\n",
    "warnings.simplefilter(\"ignore\", category=ConvergenceWarning)\n",
    "# show several prints in one cell. This will allow us to condence every trick in one cell.\n",
    "from IPython.core.interactiveshell import InteractiveShell\n",
    "InteractiveShell.ast_node_interactivity = \"all\"\n",
    "%matplotlib inline\n",
    "pd.pandas.set_option('display.max_columns', None)\n",
    "pd.set_option('display.float_format', lambda x: '%.3f' % x)\n",
    "# ---------------------------------------"
   ]
  },
  {
   "cell_type": "markdown",
   "metadata": {},
   "source": [
    "### Text analysis and String manipulation imports:"
   ]
  },
  {
   "cell_type": "code",
   "execution_count": 293,
   "metadata": {},
   "outputs": [],
   "source": [
    "# --------------------------------------\n",
    "# --------- Text analysis and Hebrew text analysis imports:\n",
    "# vectorizers:\n",
    "from sklearn.feature_extraction import text\n",
    "from sklearn.feature_extraction.text import CountVectorizer, TfidfVectorizer\n",
    "\n",
    "# regular expressions:\n",
    "import re\n",
    "# --------------------------------------"
   ]
  },
  {
   "cell_type": "markdown",
   "metadata": {},
   "source": [
    "### (optional) Hebrew text analysis - WordNet (for Hebrew)\n",
    "Note: the WordNet is not a must"
   ]
  },
  {
   "cell_type": "markdown",
   "metadata": {},
   "source": [
    "#### (optional) Only if you didn't install Wordnet (for Hebrew) use:"
   ]
  },
  {
   "cell_type": "code",
   "execution_count": 294,
   "metadata": {},
   "outputs": [],
   "source": [
    "# word net installation:\n",
    "\n",
    "# unmark if you want to use and need to install\n",
    "#!pip install wn\n",
    "#!python -m wn download omw-he:1.4"
   ]
  },
  {
   "cell_type": "code",
   "execution_count": 295,
   "metadata": {},
   "outputs": [],
   "source": [
    "# word net import:\n",
    "\n",
    "# unmark if you want to use:\n",
    "#import wn"
   ]
  },
  {
   "cell_type": "markdown",
   "metadata": {},
   "source": [
    "### (optional) Hebrew text analysis - hebrew_tokenizer (Tokenizer for Hebrew)\n",
    "Note: the hebrew_tokenizer is not a must"
   ]
  },
  {
   "cell_type": "markdown",
   "metadata": {},
   "source": [
    "#### (optional) Only if you didn't install hebrew_tokenizer use:"
   ]
  },
  {
   "cell_type": "code",
   "execution_count": 296,
   "metadata": {},
   "outputs": [
    {
     "name": "stdout",
     "output_type": "stream",
     "text": [
      "Defaulting to user installation because normal site-packages is not writeable\n",
      "Requirement already satisfied: hebrew_tokenizer in c:\\users\\שלומי\\appdata\\roaming\\python\\python39\\site-packages (2.3.0)\n"
     ]
    }
   ],
   "source": [
    "# Hebrew tokenizer installation:\n",
    "\n",
    "# unmark if you want to use and need to install:\n",
    "!pip install hebrew_tokenizer"
   ]
  },
  {
   "cell_type": "code",
   "execution_count": 297,
   "metadata": {},
   "outputs": [],
   "source": [
    "# Hebrew tokenizer import:\n",
    "\n",
    "# unmark if you want to use:\n",
    "import hebrew_tokenizer as ht"
   ]
  },
  {
   "cell_type": "markdown",
   "metadata": {},
   "source": [
    "### Reading input files\n",
    "Reading input files for train annotated corpus (raw text data) corpus and for the test corpus"
   ]
  },
  {
   "cell_type": "code",
   "execution_count": 298,
   "metadata": {},
   "outputs": [],
   "source": [
    "train_filename = 'annotated_corpus_for_train.csv'\n",
    "test_filename  = 'corpus_for_test.csv'\n",
    "df_train = pd.read_csv(train_filename, index_col=None, encoding='utf-8')\n",
    "df_test  = pd.read_csv(test_filename, index_col=None, encoding='utf-8')"
   ]
  },
  {
   "cell_type": "code",
   "execution_count": 299,
   "metadata": {},
   "outputs": [
    {
     "data": {
      "text/html": [
       "<div>\n",
       "<style scoped>\n",
       "    .dataframe tbody tr th:only-of-type {\n",
       "        vertical-align: middle;\n",
       "    }\n",
       "\n",
       "    .dataframe tbody tr th {\n",
       "        vertical-align: top;\n",
       "    }\n",
       "\n",
       "    .dataframe thead th {\n",
       "        text-align: right;\n",
       "    }\n",
       "</style>\n",
       "<table border=\"1\" class=\"dataframe\">\n",
       "  <thead>\n",
       "    <tr style=\"text-align: right;\">\n",
       "      <th></th>\n",
       "      <th>story</th>\n",
       "      <th>gender</th>\n",
       "    </tr>\n",
       "  </thead>\n",
       "  <tbody>\n",
       "    <tr>\n",
       "      <th>0</th>\n",
       "      <td>כשחבר הזמין אותי לחול, לא באמת חשבתי שזה יקרה,...</td>\n",
       "      <td>m</td>\n",
       "    </tr>\n",
       "    <tr>\n",
       "      <th>1</th>\n",
       "      <td>לפני שהתגייסתי לצבא עשיתי כל מני מיונים ליחידו...</td>\n",
       "      <td>m</td>\n",
       "    </tr>\n",
       "    <tr>\n",
       "      <th>2</th>\n",
       "      <td>מאז שהתחילו הלימודים חלומו של כל סטודנט זה הפנ...</td>\n",
       "      <td>f</td>\n",
       "    </tr>\n",
       "    <tr>\n",
       "      <th>3</th>\n",
       "      <td>כשהייתי ילד, מטוסים היה הדבר שהכי ריתק אותי. ב...</td>\n",
       "      <td>m</td>\n",
       "    </tr>\n",
       "    <tr>\n",
       "      <th>4</th>\n",
       "      <td>‏הייתי מדריכה בכפר נוער ומתאם הכפר היינו צריכי...</td>\n",
       "      <td>f</td>\n",
       "    </tr>\n",
       "    <tr>\n",
       "      <th>5</th>\n",
       "      <td>לפני כ3 חודשים טסתי לרומא למשך שבוע. טסתי במטו...</td>\n",
       "      <td>f</td>\n",
       "    </tr>\n",
       "    <tr>\n",
       "      <th>6</th>\n",
       "      <td>אני כבר שנתיים נשוי והשנה אני ואישתי סוף סוף י...</td>\n",
       "      <td>m</td>\n",
       "    </tr>\n",
       "    <tr>\n",
       "      <th>7</th>\n",
       "      <td>השנה התחלנו שיפוץ בדירה שלנו בתל אביב. הדירה ה...</td>\n",
       "      <td>f</td>\n",
       "    </tr>\n",
       "  </tbody>\n",
       "</table>\n",
       "</div>"
      ],
      "text/plain": [
       "                                               story gender\n",
       "0  כשחבר הזמין אותי לחול, לא באמת חשבתי שזה יקרה,...      m\n",
       "1  לפני שהתגייסתי לצבא עשיתי כל מני מיונים ליחידו...      m\n",
       "2  מאז שהתחילו הלימודים חלומו של כל סטודנט זה הפנ...      f\n",
       "3  כשהייתי ילד, מטוסים היה הדבר שהכי ריתק אותי. ב...      m\n",
       "4  ‏הייתי מדריכה בכפר נוער ומתאם הכפר היינו צריכי...      f\n",
       "5  לפני כ3 חודשים טסתי לרומא למשך שבוע. טסתי במטו...      f\n",
       "6  אני כבר שנתיים נשוי והשנה אני ואישתי סוף סוף י...      m\n",
       "7  השנה התחלנו שיפוץ בדירה שלנו בתל אביב. הדירה ה...      f"
      ]
     },
     "execution_count": 299,
     "metadata": {},
     "output_type": "execute_result"
    },
    {
     "data": {
      "text/plain": [
       "(753, 2)"
      ]
     },
     "execution_count": 299,
     "metadata": {},
     "output_type": "execute_result"
    }
   ],
   "source": [
    "df_train.head(8)\n",
    "df_train.shape"
   ]
  },
  {
   "cell_type": "code",
   "execution_count": 300,
   "metadata": {},
   "outputs": [
    {
     "data": {
      "text/html": [
       "<div>\n",
       "<style scoped>\n",
       "    .dataframe tbody tr th:only-of-type {\n",
       "        vertical-align: middle;\n",
       "    }\n",
       "\n",
       "    .dataframe tbody tr th {\n",
       "        vertical-align: top;\n",
       "    }\n",
       "\n",
       "    .dataframe thead th {\n",
       "        text-align: right;\n",
       "    }\n",
       "</style>\n",
       "<table border=\"1\" class=\"dataframe\">\n",
       "  <thead>\n",
       "    <tr style=\"text-align: right;\">\n",
       "      <th></th>\n",
       "      <th>test_example_id</th>\n",
       "      <th>story</th>\n",
       "    </tr>\n",
       "  </thead>\n",
       "  <tbody>\n",
       "    <tr>\n",
       "      <th>0</th>\n",
       "      <td>0</td>\n",
       "      <td>כל קיץ אני והמשפחה נוסעים לארצות הברית לוס אנג...</td>\n",
       "    </tr>\n",
       "    <tr>\n",
       "      <th>1</th>\n",
       "      <td>1</td>\n",
       "      <td>הגעתי לשירות המדינה אחרי שנתיים כפעיל בתנועת \"...</td>\n",
       "    </tr>\n",
       "    <tr>\n",
       "      <th>2</th>\n",
       "      <td>2</td>\n",
       "      <td>אחת האהבות הגדולות שלי אלו הכלבים שלי ושל אישת...</td>\n",
       "    </tr>\n",
       "  </tbody>\n",
       "</table>\n",
       "</div>"
      ],
      "text/plain": [
       "   test_example_id                                              story\n",
       "0                0  כל קיץ אני והמשפחה נוסעים לארצות הברית לוס אנג...\n",
       "1                1  הגעתי לשירות המדינה אחרי שנתיים כפעיל בתנועת \"...\n",
       "2                2  אחת האהבות הגדולות שלי אלו הכלבים שלי ושל אישת..."
      ]
     },
     "execution_count": 300,
     "metadata": {},
     "output_type": "execute_result"
    },
    {
     "data": {
      "text/plain": [
       "(323, 2)"
      ]
     },
     "execution_count": 300,
     "metadata": {},
     "output_type": "execute_result"
    }
   ],
   "source": [
    "df_test.head(3)\n",
    "df_test.shape"
   ]
  },
  {
   "cell_type": "markdown",
   "metadata": {},
   "source": [
    "### Your implementation:\n",
    "Write your code solution in the following code-cells"
   ]
  },
  {
   "cell_type": "code",
   "execution_count": 301,
   "metadata": {},
   "outputs": [],
   "source": [
    "def data_cleaning(df_train) :\n",
    "    df_train['story'] = df_train['story'].str.replace(',', '')\n",
    "    df_train['story'] = df_train['story'].str.replace('.', '')\n",
    "    df_train['story'] = df_train['story'].str.replace(':', '')\n",
    "    df_train['story'] = df_train['story'].str.replace('0', '')\n",
    "    df_train['story'] = df_train['story'].str.replace('1', '')\n",
    "    df_train['story'] = df_train['story'].str.replace('2', '')\n",
    "    df_train['story'] = df_train['story'].str.replace('3', '')\n",
    "    df_train['story'] = df_train['story'].str.replace('4', '')\n",
    "    df_train['story'] = df_train['story'].str.replace('5', '')\n",
    "    df_train['story'] = df_train['story'].str.replace('6', '')\n",
    "    df_train['story'] = df_train['story'].str.replace('7', '')\n",
    "    df_train['story'] = df_train['story'].str.replace('8', '')\n",
    "    df_train['story'] = df_train['story'].str.replace('9', '')\n",
    "    \n",
    "    return df_train"
   ]
  },
  {
   "cell_type": "code",
   "execution_count": 302,
   "metadata": {},
   "outputs": [],
   "source": [
    "def Hebrew_tokenizer(text):\n",
    "    tokens = ht.tokenize(text)\n",
    "    toks = []\n",
    "    for grp, token, token_num, (start_index, end_index) in tokens:\n",
    "        if grp == \"HEBREW\" and end_index - start_index > 2:\n",
    "            toks.append(token)\n",
    "    return toks"
   ]
  },
  {
   "cell_type": "code",
   "execution_count": 303,
   "metadata": {},
   "outputs": [],
   "source": [
    "# Split the data into training and testing sets\n",
    "def SplitData(df_train) :\n",
    "    \n",
    "    X = df_train[\"story\"]\n",
    "    y = df_train[\"gender\"]\n",
    "    \n",
    "    return X , y "
   ]
  },
  {
   "cell_type": "code",
   "execution_count": 304,
   "metadata": {},
   "outputs": [],
   "source": [
    "# Vectorize and scale the text\n",
    "def vectorizer_text(vector , X):\n",
    "    if(vector == \"Countvectorizer\"):\n",
    "        #vectorizer = CountVectorizer()\n",
    "        vectorizer = CountVectorizer(ngram_range=(1, 2) , min_df = 5 , max_features=10000 )\n",
    "        \n",
    "    if(vector == \"TfidfVectorizer\"):\n",
    "        #vectorizer = TfidfVectorizer()\n",
    "        vectorizer = TfidfVectorizer(ngram_range=(1, 2) , min_df = 5 , max_features=10000 , norm = 'l1' , analyzer = 'word')\n",
    "        \n",
    "    vec_X = vectorizer.fit_transform(X)\n",
    "    \n",
    "    #use min max scaler\n",
    "    scaler = MinMaxScaler()\n",
    "    \n",
    "    scaled_X = scaler.fit_transform(vec_X.toarray())\n",
    "    #X_test_scaled = scaler.transform(vec_X_test.toarray())\n",
    "    \n",
    "    return vec_X , scaled_X , vectorizer\n",
    "   # return X_train_scaled ,X_test_scaled, vec_X_train ,vec_X_test , vectorizer"
   ]
  },
  {
   "cell_type": "code",
   "execution_count": 305,
   "metadata": {},
   "outputs": [],
   "source": [
    "def call_specific_model(X , y , model) :\n",
    "    \n",
    "    # Train a linear SVC model using cross-validation\n",
    "    if (model == \"LinearSVC\" ):\n",
    "        clf = LinearSVC()\n",
    "        clf.fit(X, y)\n",
    "        \n",
    "        scores = cross_val_score(clf, X, y, cv=10, scoring='f1_macro')\n",
    "        print(\"f1 score: %0.2f (+/- %0.2f)\" % (scores.mean(), scores.std() * 2))\n",
    "        \n",
    "    # Train a MLP model using cross-validation     \n",
    "    if (model == \"MLP\"):\n",
    "        clf = MLPClassifier()\n",
    "        clf.fit(X, y)\n",
    "        \n",
    "        scores = cross_val_score(clf, X, y, cv=10, scoring='f1_macro')\n",
    "        print(\"f1 score: %0.2f (+/- %0.2f)\" % (scores.mean(), scores.std() * 2))\n",
    "        \n",
    "    # Train a Perceptron model using cross-validation\n",
    "    if(model == \"Perceptron\") :\n",
    "        clf = Perceptron(alpha=0.01, max_iter=100)\n",
    "        clf.fit(X, y)\n",
    "        \n",
    "        scores = cross_val_score(clf, X, y, cv=10, scoring='f1_macro')\n",
    "        print(\"f1 score: %0.2f (+/- %0.2f)\" % (scores.mean(), scores.std() * 2))\n",
    "        \n",
    "    # Train a SGD model using cross-validation    \n",
    "    if(model == \"SGD\"):\n",
    "        clf = SGDClassifier()\n",
    "        clf.fit(X, y)\n",
    "        \n",
    "        scores = cross_val_score(clf, X, y, cv=10, scoring='f1_macro')\n",
    "        print(\"f1 score: %0.2f (+/- %0.2f)\" % (scores.mean(), scores.std() * 2))\n",
    "    \n",
    "     # Train a Multinomial model using cross-validation\n",
    "    if(model == \"MultinomialNB\"):\n",
    "        #clf = MultinomialNB(alpha = 0.1, fit_prior= False)\n",
    "        clf = MultinomialNB()\n",
    "        clf.fit(X, y)\n",
    "        \n",
    "        scores = cross_val_score(clf, X, y, cv=10, scoring='f1_macro')\n",
    "        print(\"f1 score: %0.2f (+/- %0.2f)\" % (scores.mean(), scores.std() * 2))\n",
    "\n",
    "    # Train a KNN model using cross-validation    \n",
    "    if(model == \"KNN\"):\n",
    "        clf = KNeighborsClassifier(n_neighbors=3)\n",
    "        clf.fit(X, y)\n",
    "        \n",
    "        scores = cross_val_score(clf, X, y, cv=10, scoring='f1_macro')\n",
    "        print(\"f1 score: %0.2f (+/- %0.2f)\" % (scores.mean(), scores.std() * 2))\n",
    "        \n",
    "    # Train a DecisionTree model using cross-validation\n",
    "    if(model == \"DecisionTree\"):\n",
    "        clf = DecisionTreeClassifier()\n",
    "        clf.fit(X, y)\n",
    "        \n",
    "        scores = cross_val_score(clf, X, y, cv=10, scoring='f1_macro')\n",
    "        print(\"f1 score: %0.2f (+/- %0.2f)\" % (scores.mean(), scores.std() * 2))\n",
    "\n",
    "\n",
    "        \n",
    "    return clf \n"
   ]
  },
  {
   "cell_type": "code",
   "execution_count": 306,
   "metadata": {
    "scrolled": false
   },
   "outputs": [
    {
     "name": "stdout",
     "output_type": "stream",
     "text": [
      "------------LinearSVC,TfidfVectorizer,MinMaxScaler------------\n",
      "f1 score: 0.61 (+/- 0.09)\n",
      " \n",
      "------------LinearSVC,TfidfVectorizer------------\n",
      "f1 score: 0.43 (+/- 0.00)\n",
      " \n",
      "------------Perceptron,TfidfVectorizer,MinMaxScaler------------\n",
      "f1 score: 0.67 (+/- 0.09)\n",
      " \n",
      "------------Perceptron,TfidfVectorizer------------\n",
      "f1 score: 0.46 (+/- 0.10)\n",
      " \n",
      "------------SGD,TfidfVectorizer,MinMaxScaler------------\n",
      "f1 score: 0.62 (+/- 0.13)\n",
      " \n",
      "------------SGD,TfidfVectorizer------------\n",
      "f1 score: 0.43 (+/- 0.00)\n",
      " \n",
      "------------MultinomialNB,TfidfVectorizer,MinMaxScaler------------\n",
      "f1 score: 0.70 (+/- 0.12)\n",
      " \n",
      "------------MultinomialNB,TfidfVectorizer------------\n",
      "f1 score: 0.43 (+/- 0.00)\n",
      " \n",
      "------------KNN,TfidfVectorizer,MinMaxScaler------------\n",
      "f1 score: 0.44 (+/- 0.03)\n",
      " \n",
      "------------KNN,TfidfVectorizer------------\n",
      "f1 score: 0.57 (+/- 0.13)\n",
      " \n",
      "------------DecisionTree,TfidfVectorizer,MinMaxScaler------------\n",
      "f1 score: 0.58 (+/- 0.12)\n",
      " \n",
      "------------DecisionTree,TfidfVectorizer------------\n",
      "f1 score: 0.59 (+/- 0.08)\n",
      " \n",
      "------------MLP,TfidfVectorizer,MinMaxScaler------------\n",
      "f1 score: 0.57 (+/- 0.11)\n",
      " \n",
      "------------MLP,TfidfVectorizer------------\n",
      "f1 score: 0.54 (+/- 0.13)\n",
      " \n",
      "------------LinearSVC,Countvectorizer,MinMaxScaler------------\n",
      "f1 score: 0.61 (+/- 0.06)\n",
      " \n",
      "------------LinearSVC,Countvectorizer------------\n",
      "f1 score: 0.66 (+/- 0.10)\n",
      " \n",
      "------------Perceptron,Countvectorizer,MinMaxScaler------------\n",
      "f1 score: 0.65 (+/- 0.11)\n",
      " \n",
      "------------Perceptron,Countvectorizer------------\n",
      "f1 score: 0.68 (+/- 0.10)\n",
      " \n",
      "------------SGD,Countvectorizer,MinMaxScaler------------\n",
      "f1 score: 0.63 (+/- 0.10)\n",
      " \n",
      "------------SGD,Countvectorizer------------\n",
      "f1 score: 0.67 (+/- 0.09)\n",
      " \n",
      "------------MultinomialNB,Countvectorizer,MinMaxScaler------------\n",
      "f1 score: 0.69 (+/- 0.10)\n",
      " \n",
      "------------MultinomialNB,Countvectorizer------------\n",
      "f1 score: 0.71 (+/- 0.10)\n",
      " \n",
      "------------KNN,Countvectorizer,MinMaxScaler------------\n",
      "f1 score: 0.43 (+/- 0.00)\n",
      " \n",
      "------------KNN,Countvectorizer------------\n",
      "f1 score: 0.52 (+/- 0.10)\n",
      " \n",
      "------------DecisionTree,Countvectorizer,MinMaxScaler------------\n",
      "f1 score: 0.60 (+/- 0.09)\n",
      " \n",
      "------------DecisionTree,Countvectorizer------------\n",
      "f1 score: 0.62 (+/- 0.13)\n",
      " \n",
      "------------MLP,Countvectorizer,MinMaxScaler------------\n",
      "f1 score: 0.55 (+/- 0.11)\n",
      " \n",
      "------------MLP,Countvectorizer------------\n",
      "f1 score: 0.60 (+/- 0.14)\n",
      " \n"
     ]
    }
   ],
   "source": [
    "\n",
    "df_train = data_cleaning(df_train)\n",
    "\n",
    "X , y = SplitData(df_train)\n",
    "\n",
    "ModelsArray = [\"LinearSVC\",\"Perceptron\" ,\"SGD\" , \"MultinomialNB\" , \"KNN\" ,\"DecisionTree\" , \"MLP\"]\n",
    "#ModelsArray = [\"MultinomialNB\" ]\n",
    "VectorsArray = [\"TfidfVectorizer\" , \"Countvectorizer\"]\n",
    "scaleArray = [\"MinMaxScaler\" , \"noneScaler\"]\n",
    "\n",
    "\n",
    "for vector in VectorsArray :\n",
    "    vec_X , scaled_X , vectorizer = vectorizer_text(vector , X)\n",
    "    for model in ModelsArray :\n",
    "        for scale in scaleArray :\n",
    "            if (scale == \"noneScaler\"):\n",
    "                print(\"------------\" + model + \",\" + vector + \"------------\" )\n",
    "                clf  = call_specific_model(vec_X , y , model)\n",
    "                print(\" \")\n",
    "                \n",
    "            if (scale == \"MinMaxScaler\"):\n",
    "                print(\"------------\" + model + \",\" + vector + \",\" + scale +\"------------\" )\n",
    "                clf  = call_specific_model(scaled_X , y , model)\n",
    "                print(\" \") \n",
    "            \n"
   ]
  },
  {
   "cell_type": "code",
   "execution_count": 307,
   "metadata": {},
   "outputs": [],
   "source": [
    "#choose best model and find average f1 score\n",
    "#MultinomialNB,Countvectorizer,noneScaler\n",
    "def best_model( vec_X , y , vectorizer):\n",
    "    vec_X , scaled_X , vectorizer = vectorizer_text(\"Countvectorizer\",X)\n",
    "    clf = call_specific_model(vec_X , y , \"MultinomialNB\")\n",
    "    \n",
    "    return vectorizer , clf"
   ]
  },
  {
   "cell_type": "code",
   "execution_count": 308,
   "metadata": {},
   "outputs": [
    {
     "name": "stdout",
     "output_type": "stream",
     "text": [
      "f1 score: 0.71 (+/- 0.10)\n"
     ]
    }
   ],
   "source": [
    "vectorizer , clf = best_model(vec_X , y , vectorizer)\n",
    "\n",
    "X_new_vect = vectorizer.transform(df_test['story'])\n",
    "\n",
    "# Use the trained model to make predictions on the vectorized text of the new stories\n",
    "y_new_pred = clf.predict(X_new_vect)\n"
   ]
  },
  {
   "cell_type": "code",
   "execution_count": 309,
   "metadata": {},
   "outputs": [
    {
     "name": "stdout",
     "output_type": "stream",
     "text": [
      " \n",
      "f: 41\n",
      "m: 282\n"
     ]
    }
   ],
   "source": [
    "unique_values, value_counts = np.unique(y_new_pred, return_counts=True)\n",
    "\n",
    "print(\" \")\n",
    "# print the unique values and counts\n",
    "for i in range(len(unique_values)):\n",
    "    print(f\"{unique_values[i]}: {value_counts[i]}\")"
   ]
  },
  {
   "cell_type": "code",
   "execution_count": 310,
   "metadata": {},
   "outputs": [
    {
     "data": {
      "text/html": [
       "<div>\n",
       "<style scoped>\n",
       "    .dataframe tbody tr th:only-of-type {\n",
       "        vertical-align: middle;\n",
       "    }\n",
       "\n",
       "    .dataframe tbody tr th {\n",
       "        vertical-align: top;\n",
       "    }\n",
       "\n",
       "    .dataframe thead th {\n",
       "        text-align: right;\n",
       "    }\n",
       "</style>\n",
       "<table border=\"1\" class=\"dataframe\">\n",
       "  <thead>\n",
       "    <tr style=\"text-align: right;\">\n",
       "      <th></th>\n",
       "      <th>test_example_id</th>\n",
       "      <th>predicted_category</th>\n",
       "    </tr>\n",
       "  </thead>\n",
       "  <tbody>\n",
       "    <tr>\n",
       "      <th>0</th>\n",
       "      <td>0</td>\n",
       "      <td>m</td>\n",
       "    </tr>\n",
       "    <tr>\n",
       "      <th>1</th>\n",
       "      <td>1</td>\n",
       "      <td>m</td>\n",
       "    </tr>\n",
       "    <tr>\n",
       "      <th>2</th>\n",
       "      <td>2</td>\n",
       "      <td>m</td>\n",
       "    </tr>\n",
       "    <tr>\n",
       "      <th>3</th>\n",
       "      <td>3</td>\n",
       "      <td>m</td>\n",
       "    </tr>\n",
       "    <tr>\n",
       "      <th>4</th>\n",
       "      <td>4</td>\n",
       "      <td>m</td>\n",
       "    </tr>\n",
       "    <tr>\n",
       "      <th>...</th>\n",
       "      <td>...</td>\n",
       "      <td>...</td>\n",
       "    </tr>\n",
       "    <tr>\n",
       "      <th>318</th>\n",
       "      <td>318</td>\n",
       "      <td>m</td>\n",
       "    </tr>\n",
       "    <tr>\n",
       "      <th>319</th>\n",
       "      <td>319</td>\n",
       "      <td>m</td>\n",
       "    </tr>\n",
       "    <tr>\n",
       "      <th>320</th>\n",
       "      <td>320</td>\n",
       "      <td>m</td>\n",
       "    </tr>\n",
       "    <tr>\n",
       "      <th>321</th>\n",
       "      <td>321</td>\n",
       "      <td>m</td>\n",
       "    </tr>\n",
       "    <tr>\n",
       "      <th>322</th>\n",
       "      <td>322</td>\n",
       "      <td>m</td>\n",
       "    </tr>\n",
       "  </tbody>\n",
       "</table>\n",
       "<p>323 rows × 2 columns</p>\n",
       "</div>"
      ],
      "text/plain": [
       "     test_example_id predicted_category\n",
       "0                  0                  m\n",
       "1                  1                  m\n",
       "2                  2                  m\n",
       "3                  3                  m\n",
       "4                  4                  m\n",
       "..               ...                ...\n",
       "318              318                  m\n",
       "319              319                  m\n",
       "320              320                  m\n",
       "321              321                  m\n",
       "322              322                  m\n",
       "\n",
       "[323 rows x 2 columns]"
      ]
     },
     "execution_count": 310,
     "metadata": {},
     "output_type": "execute_result"
    }
   ],
   "source": [
    "df_predicted = pd.DataFrame({'test_example_id': df_test['test_example_id'], 'predicted_category': y_new_pred})\n",
    "df_predicted"
   ]
  },
  {
   "cell_type": "markdown",
   "metadata": {},
   "source": [
    "### Save output to csv (optional)\n",
    "After you're done save your output to the 'classification_results.csv' csv file.<br/>\n",
    "We assume that the dataframe with your results contain the following columns:\n",
    "* column 1 (left column): 'test_example_id'  - the same id associated to each of the test stories to be predicted.\n",
    "* column 2 (right column): 'predicted_category' - the predicted gender value for each of the associated story. \n",
    "\n",
    "Assuming your predicted values are in the `df_predicted` dataframe, you should save you're results as following:"
   ]
  },
  {
   "cell_type": "code",
   "execution_count": 311,
   "metadata": {},
   "outputs": [],
   "source": [
    "df_predicted.to_csv('classification_results.csv',index=False)"
   ]
  },
  {
   "cell_type": "code",
   "execution_count": null,
   "metadata": {},
   "outputs": [],
   "source": []
  }
 ],
 "metadata": {
  "celltoolbar": "Create Assignment",
  "kernelspec": {
   "display_name": "Python 3 (ipykernel)",
   "language": "python",
   "name": "python3"
  },
  "language_info": {
   "codemirror_mode": {
    "name": "ipython",
    "version": 3
   },
   "file_extension": ".py",
   "mimetype": "text/x-python",
   "name": "python",
   "nbconvert_exporter": "python",
   "pygments_lexer": "ipython3",
   "version": "3.9.13"
  }
 },
 "nbformat": 4,
 "nbformat_minor": 4
}
